{
 "cells": [
  {
   "cell_type": "code",
   "execution_count": 4,
   "metadata": {},
   "outputs": [
    {
     "name": "stdout",
     "output_type": "stream",
     "text": [
      "       VIXRET  DJIARET   VFUTRET\n",
      "98   0.077019    -0.04  0.115132\n",
      "99   0.454422    -0.08  0.407407\n",
      "100  0.253553     0.01  0.139842\n",
      "101 -0.097949     0.05 -0.071078\n",
      "102 -0.207961     0.03 -0.172414\n"
     ]
    },
    {
     "data": {
      "text/html": [
       "<div>\n",
       "<style scoped>\n",
       "    .dataframe tbody tr th:only-of-type {\n",
       "        vertical-align: middle;\n",
       "    }\n",
       "\n",
       "    .dataframe tbody tr th {\n",
       "        vertical-align: top;\n",
       "    }\n",
       "\n",
       "    .dataframe thead th {\n",
       "        text-align: right;\n",
       "    }\n",
       "</style>\n",
       "<table border=\"1\" class=\"dataframe\">\n",
       "  <thead>\n",
       "    <tr style=\"text-align: right;\">\n",
       "      <th></th>\n",
       "      <th>VIXRET</th>\n",
       "      <th>DJIARET</th>\n",
       "      <th>VFUTRET</th>\n",
       "    </tr>\n",
       "  </thead>\n",
       "  <tbody>\n",
       "    <tr>\n",
       "      <th>VIXRET</th>\n",
       "      <td>1.000000</td>\n",
       "      <td>-0.675030</td>\n",
       "      <td>0.935648</td>\n",
       "    </tr>\n",
       "    <tr>\n",
       "      <th>DJIARET</th>\n",
       "      <td>-0.675030</td>\n",
       "      <td>1.000000</td>\n",
       "      <td>-0.748265</td>\n",
       "    </tr>\n",
       "    <tr>\n",
       "      <th>VFUTRET</th>\n",
       "      <td>0.935648</td>\n",
       "      <td>-0.748265</td>\n",
       "      <td>1.000000</td>\n",
       "    </tr>\n",
       "  </tbody>\n",
       "</table>\n",
       "</div>"
      ],
      "text/plain": [
       "           VIXRET   DJIARET   VFUTRET\n",
       "VIXRET   1.000000 -0.675030  0.935648\n",
       "DJIARET -0.675030  1.000000 -0.748265\n",
       "VFUTRET  0.935648 -0.748265  1.000000"
      ]
     },
     "execution_count": 4,
     "metadata": {},
     "output_type": "execute_result"
    }
   ],
   "source": [
    "import pandas as pd\n",
    "import numpy as np\n",
    "\n",
    "df = pd.read_csv('data.csv')\n",
    "df = df.drop(['Date','VIX','DJIA','vFutures'], axis=1)\n",
    "df = df.drop(df.index[len(df)-1])\n",
    "df = df.astype(float)\n",
    "print(df.tail())\n",
    "df.corr()\n",
    "\n",
    "# print(df.tail())\n"
   ]
  },
  {
   "cell_type": "code",
   "execution_count": 3,
   "metadata": {},
   "outputs": [
    {
     "name": "stdout",
     "output_type": "stream",
     "text": [
      "           VIXRET DJIARET       VFUTRET\n",
      "98    0.077019021   -0.04   0.115131579\n",
      "99    0.454421769   -0.08   0.407407407\n",
      "100   0.253553155    0.01   0.139841689\n",
      "101  -0.097948718    0.05  -0.071078431\n",
      "102  -0.207961007    0.03  -0.172413793\n"
     ]
    },
    {
     "data": {
      "text/html": [
       "<div>\n",
       "<style scoped>\n",
       "    .dataframe tbody tr th:only-of-type {\n",
       "        vertical-align: middle;\n",
       "    }\n",
       "\n",
       "    .dataframe tbody tr th {\n",
       "        vertical-align: top;\n",
       "    }\n",
       "\n",
       "    .dataframe thead th {\n",
       "        text-align: right;\n",
       "    }\n",
       "</style>\n",
       "<table border=\"1\" class=\"dataframe\">\n",
       "  <thead>\n",
       "    <tr style=\"text-align: right;\">\n",
       "      <th></th>\n",
       "    </tr>\n",
       "  </thead>\n",
       "  <tbody>\n",
       "  </tbody>\n",
       "</table>\n",
       "</div>"
      ],
      "text/plain": [
       "Empty DataFrame\n",
       "Columns: []\n",
       "Index: []"
      ]
     },
     "execution_count": 3,
     "metadata": {},
     "output_type": "execute_result"
    }
   ],
   "source": []
  }
 ],
 "metadata": {
  "kernelspec": {
   "display_name": "Python 3",
   "language": "python",
   "name": "python3"
  }
 },
 "nbformat": 4,
 "nbformat_minor": 2
}
